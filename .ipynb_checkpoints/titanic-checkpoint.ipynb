{
 "cells": [
  {
   "cell_type": "code",
   "execution_count": null,
   "id": "41345713-823d-4a39-a0ee-04940a0e3894",
   "metadata": {},
   "outputs": [],
   "source": [
    "import pandas as pd\n",
    "import numpy as np\n",
    "from sklearn.model_selection import train_test_split\n",
    "from sklearn.neighbors import KNeighborsClassifier\n",
    "from sklearn.metrics import accuracy_score, confusion_matrix, ConfusionMatrixDisplay\n",
    "from sklearn.naive_bayes import GaussianNB\n",
    "from sklearn.ensemble import RandomForestClassifier, GradientBoostingClassifier"
   ]
  },
  {
   "cell_type": "code",
   "execution_count": null,
   "id": "a291c3a8-22b9-48aa-baf2-9f9472b1dc1e",
   "metadata": {},
   "outputs": [],
   "source": [
    "data_1 = pd.read_csv('Spaceship_Titanic.csv')\n",
    "data_1"
   ]
  },
  {
   "cell_type": "code",
   "execution_count": null,
   "id": "68d94561-f79e-4434-9d0b-cd1d099c5748",
   "metadata": {},
   "outputs": [],
   "source": [
    "data_1['PassengerId'].apply(lambda i:i[-2:]).value_counts()"
   ]
  },
  {
   "cell_type": "code",
   "execution_count": null,
   "id": "e0f6bc82-0d2a-4e76-9afa-1792e0066117",
   "metadata": {},
   "outputs": [],
   "source": [
    "data_1=data_1.drop(['PassengerId'],axis=1)\n",
    "data_1"
   ]
  },
  {
   "cell_type": "code",
   "execution_count": null,
   "id": "2d46bf85-6f4f-436b-9b45-2dd628283a2a",
   "metadata": {},
   "outputs": [],
   "source": [
    "data_1.info()"
   ]
  },
  {
   "cell_type": "code",
   "execution_count": null,
   "id": "dd734d48-50db-4ef2-955f-54ef4e14d6a0",
   "metadata": {},
   "outputs": [],
   "source": [
    "data_1.isna().sum()"
   ]
  },
  {
   "cell_type": "code",
   "execution_count": null,
   "id": "5069000f-982f-4725-85f1-b6306c23e69e",
   "metadata": {},
   "outputs": [],
   "source": [
    "data_1[data_1['HomePlanet'].isna()]\n"
   ]
  },
  {
   "cell_type": "code",
   "execution_count": null,
   "id": "1240b432-1fad-4abf-bea0-175cbb3609a4",
   "metadata": {},
   "outputs": [],
   "source": [
    "x=data_1['HomePlanet'].value_counts().values\n",
    "y=data_1['HomePlanet'].value_counts().index\n",
    "print('x=',x) \n",
    "print('y=',y)"
   ]
  },
  {
   "cell_type": "code",
   "execution_count": null,
   "id": "68f7e345-9290-40b2-88aa-d8f9eb909810",
   "metadata": {},
   "outputs": [],
   "source": [
    "data_1['HomePlanet'].fillna(np.random.choice(y,p=x/np.sum(x)),inplace=True)"
   ]
  },
  {
   "cell_type": "code",
   "execution_count": null,
   "id": "15a9c046-c89f-4ead-a915-743f88868da7",
   "metadata": {},
   "outputs": [],
   "source": [
    "data_1.isna().sum()"
   ]
  },
  {
   "cell_type": "code",
   "execution_count": null,
   "id": "08174b8a-b5d0-44bc-bcf5-9da2ab0bf621",
   "metadata": {},
   "outputs": [],
   "source": [
    "data_1"
   ]
  },
  {
   "cell_type": "code",
   "execution_count": null,
   "id": "8dc58ae1-c1ec-4ce4-ac2d-f2da901fae32",
   "metadata": {},
   "outputs": [],
   "source": [
    "data_1[data_1['CryoSleep'].isna()]"
   ]
  },
  {
   "cell_type": "code",
   "execution_count": null,
   "id": "f1aa9c6b-e0c0-4db2-94e2-b4e7cdc0862a",
   "metadata": {},
   "outputs": [],
   "source": [
    "data_1['CryoSleep'].isna().sum()"
   ]
  },
  {
   "cell_type": "code",
   "execution_count": null,
   "id": "58bfcb3e-1916-411c-bc4c-e0a1964f3292",
   "metadata": {},
   "outputs": [],
   "source": [
    "for i,lm in enumerate(data_1['CryoSleep']):\n",
    "   if type(lm) is float:\n",
    "       if (data_1['RoomService'][i]+data_1['FoodCourt'][i]+data_1['ShoppingMall'][i]+ data_1['Spa'][i]+data_1['VRDeck'][i])==0:\n",
    "           data_1['CryoSleep'].iloc[i]=True\n",
    "       else:\n",
    "           data_1['CryoSleep'].iloc[i]=False\n",
    "       "
   ]
  },
  {
   "cell_type": "code",
   "execution_count": null,
   "id": "48614589-6ca8-4233-8959-b2299af02ff7",
   "metadata": {},
   "outputs": [],
   "source": [
    "data_1"
   ]
  },
  {
   "cell_type": "code",
   "execution_count": null,
   "id": "368a662f-e926-461c-af11-698017b64655",
   "metadata": {},
   "outputs": [],
   "source": [
    "data_1['Cabin']=data_1['Cabin'].apply(lambda i:i.split('/')[-1] if isinstance(i,str) else np.nan)"
   ]
  },
  {
   "cell_type": "code",
   "execution_count": null,
   "id": "2c942385-14e3-49d8-8ab5-21b3ed5e7f4a",
   "metadata": {},
   "outputs": [],
   "source": [
    "cab=data_1['Cabin'].value_counts()\n",
    "cab"
   ]
  },
  {
   "cell_type": "code",
   "execution_count": null,
   "id": "1e4bd0a2-4271-48dd-a4ec-1aed6e584066",
   "metadata": {},
   "outputs": [],
   "source": [
    "ind =cab.index\n",
    "v = cab.values\n",
    "print('ind=',ind)\n",
    "print('values=',v)"
   ]
  },
  {
   "cell_type": "code",
   "execution_count": null,
   "id": "9b811fc4-0129-43d8-bf81-24bcffeb396a",
   "metadata": {},
   "outputs": [],
   "source": [
    "data_1['Cabin'].fillna(np.random.choice(ind,p=v/np.sum(v)),inplace=True)"
   ]
  },
  {
   "cell_type": "code",
   "execution_count": null,
   "id": "c85d4111-9806-40be-bfbb-774cda7ee51f",
   "metadata": {},
   "outputs": [],
   "source": [
    "data_1.isna().sum()"
   ]
  },
  {
   "cell_type": "code",
   "execution_count": null,
   "id": "970e2c90-8da7-447f-8049-274374963104",
   "metadata": {},
   "outputs": [],
   "source": [
    "data_1"
   ]
  },
  {
   "cell_type": "code",
   "execution_count": null,
   "id": "f60333fd-24d9-4ef3-8d8d-6567e6a28c1d",
   "metadata": {},
   "outputs": [],
   "source": [
    "d = data_1['Destination'].value_counts()\n",
    "d"
   ]
  },
  {
   "cell_type": "code",
   "execution_count": null,
   "id": "969da9b1-37d7-49bd-9ea9-16440a019df1",
   "metadata": {},
   "outputs": [],
   "source": [
    "ind =d.index\n",
    "v = d.values\n",
    "print('ind=',ind)\n",
    "print('values=',v)"
   ]
  },
  {
   "cell_type": "code",
   "execution_count": null,
   "id": "911c71a2-baa4-486f-9221-3e284b513378",
   "metadata": {},
   "outputs": [],
   "source": [
    "data_1['Destination'].fillna(np.random.choice(ind,p=v/np.sum(v)),inplace=True)"
   ]
  },
  {
   "cell_type": "code",
   "execution_count": null,
   "id": "6ea27706-d14b-4173-8cdd-82cc77136cfe",
   "metadata": {},
   "outputs": [],
   "source": [
    "data_1"
   ]
  },
  {
   "cell_type": "code",
   "execution_count": null,
   "id": "06054ff7-26ea-4e55-887e-5297e5a4f882",
   "metadata": {},
   "outputs": [],
   "source": [
    "data_1['Age'].describe()"
   ]
  },
  {
   "cell_type": "code",
   "execution_count": null,
   "id": "1de57979-32b1-4e7e-9e3e-69f2dda9b53e",
   "metadata": {},
   "outputs": [],
   "source": [
    "data_1['Age'].fillna(data_1['Age'].mean(),inplace=True)"
   ]
  },
  {
   "cell_type": "code",
   "execution_count": null,
   "id": "fb6c2b5f-27f4-4b9d-808a-fba92d2c67b8",
   "metadata": {},
   "outputs": [],
   "source": [
    "data_1"
   ]
  },
  {
   "cell_type": "code",
   "execution_count": null,
   "id": "8cc6c318-1940-4fe9-8f19-d2753dc80c0c",
   "metadata": {},
   "outputs": [],
   "source": [
    "data_1['VIP'].value_counts()"
   ]
  },
  {
   "cell_type": "code",
   "execution_count": null,
   "id": "2e9630b1-df0e-4245-95ad-a8da3f0fb899",
   "metadata": {},
   "outputs": [],
   "source": [
    "data_1['VIP'].fillna(False,inplace=True)"
   ]
  },
  {
   "cell_type": "code",
   "execution_count": null,
   "id": "8523c685-9310-4ba3-a33a-964ae96125ae",
   "metadata": {},
   "outputs": [],
   "source": [
    "data_1"
   ]
  },
  {
   "cell_type": "code",
   "execution_count": null,
   "id": "20c559b0-f31e-4069-86f6-47c9035701e1",
   "metadata": {},
   "outputs": [],
   "source": [
    "data_1['RoomService'].fillna(0,inplace=True)\n",
    "data_1['FoodCourt'].fillna(0,inplace=True)\n",
    "data_1['ShoppingMall'].fillna(0,inplace=True)\n",
    "data_1['Spa'].fillna(0,inplace=True)\n",
    "data_1['VRDeck'].fillna(0,inplace=True)"
   ]
  },
  {
   "cell_type": "code",
   "execution_count": null,
   "id": "2862ecfb-f1ac-440e-a254-a3a75b98caf9",
   "metadata": {},
   "outputs": [],
   "source": [
    "data_1['Sells']=data_1['RoomService']+data_1['FoodCourt']+data_1['ShoppingMall']+ data_1['Spa']+data_1['VRDeck']"
   ]
  },
  {
   "cell_type": "code",
   "execution_count": null,
   "id": "ae653335-49e4-43b0-8844-2d2533c2a2a8",
   "metadata": {},
   "outputs": [],
   "source": [
    "data_1['Sells'].isna().sum()"
   ]
  },
  {
   "cell_type": "code",
   "execution_count": null,
   "id": "80378c4b-61e1-4372-8800-434cb2e37a76",
   "metadata": {},
   "outputs": [],
   "source": [
    "data_1.drop(['RoomService','FoodCourt','ShoppingMall','Spa','VRDeck'],axis=1,inplace=True)"
   ]
  },
  {
   "cell_type": "code",
   "execution_count": null,
   "id": "e08686bc-74a4-4476-9840-4a068deb2c97",
   "metadata": {},
   "outputs": [],
   "source": [
    "data_1"
   ]
  },
  {
   "cell_type": "code",
   "execution_count": null,
   "id": "f71e9b8f-31cc-42c8-8c9a-cf129076ce25",
   "metadata": {},
   "outputs": [],
   "source": [
    "data_1.drop(['Name'],axis=1,inplace=True)"
   ]
  },
  {
   "cell_type": "code",
   "execution_count": null,
   "id": "e663e62d-4695-4ad6-bd53-57ee320ea06f",
   "metadata": {},
   "outputs": [],
   "source": [
    "data_1.isna().sum()"
   ]
  },
  {
   "cell_type": "code",
   "execution_count": null,
   "id": "cadc4576-6363-4306-9405-8172ab8aaaa5",
   "metadata": {},
   "outputs": [],
   "source": [
    "data_1.info(memory_usage='deep')"
   ]
  },
  {
   "cell_type": "code",
   "execution_count": null,
   "id": "862fdaf9-88a8-4d2c-8d62-11e74fcfef6c",
   "metadata": {},
   "outputs": [],
   "source": [
    "data_1['Earth']=(data_1['HomePlanet']=='Earth').astype('int8')"
   ]
  },
  {
   "cell_type": "code",
   "execution_count": null,
   "id": "9f4684fd-a242-4de3-b3c3-087ba2934d03",
   "metadata": {},
   "outputs": [],
   "source": [
    "data_1['Mars']=(data_1['HomePlanet']=='Mars').astype('int8')"
   ]
  },
  {
   "cell_type": "code",
   "execution_count": null,
   "id": "e3e0072f-ed04-4137-904d-f84e47125474",
   "metadata": {},
   "outputs": [],
   "source": [
    "data_1.drop(['HomePlanet'],axis=1,inplace=True)"
   ]
  },
  {
   "cell_type": "code",
   "execution_count": null,
   "id": "b9b76940-357d-41b6-8d46-bac4e4eb1ba5",
   "metadata": {},
   "outputs": [],
   "source": [
    "data_1"
   ]
  },
  {
   "cell_type": "code",
   "execution_count": null,
   "id": "bff10694-52a4-47b6-ae3b-2f24ca2f8589",
   "metadata": {},
   "outputs": [],
   "source": [
    "data_1['CryoSleep']=data_1['CryoSleep'].astype('int8')"
   ]
  },
  {
   "cell_type": "code",
   "execution_count": null,
   "id": "9d8b6585-2b80-464a-bd2a-8ab7efe6fece",
   "metadata": {},
   "outputs": [],
   "source": [
    "data_1"
   ]
  },
  {
   "cell_type": "code",
   "execution_count": null,
   "id": "18c67d11-8553-4a21-a000-2f26e9a26a64",
   "metadata": {},
   "outputs": [],
   "source": [
    "data_1['Cabin']=(data_1['Cabin']=='P').astype('int8')"
   ]
  },
  {
   "cell_type": "code",
   "execution_count": null,
   "id": "b1d95abc-48e7-4c9e-b431-c29222849c43",
   "metadata": {},
   "outputs": [],
   "source": [
    "data_1['Dest_1']=(data_1['Destination']=='TRAPPIST-1e').astype('int8')"
   ]
  },
  {
   "cell_type": "code",
   "execution_count": null,
   "id": "a462cb7a-5d08-4f61-ba65-9078efaaee28",
   "metadata": {},
   "outputs": [],
   "source": [
    "data_1['Dest_2']=(data_1['Destination']=='55 Cancri e').astype('int8')"
   ]
  },
  {
   "cell_type": "code",
   "execution_count": null,
   "id": "0a166b21-461a-4a15-be5c-a079ed321241",
   "metadata": {},
   "outputs": [],
   "source": [
    "data_1.drop('Destination',axis=1,inplace=True)"
   ]
  },
  {
   "cell_type": "code",
   "execution_count": null,
   "id": "2e270544-2d7f-449a-81ca-fec8889da712",
   "metadata": {},
   "outputs": [],
   "source": [
    "data_1"
   ]
  },
  {
   "cell_type": "code",
   "execution_count": null,
   "id": "4529dbfa-ff87-47f6-b5a0-6afd51fd371d",
   "metadata": {},
   "outputs": [],
   "source": [
    "data_1['Age']=data_1['Age'].astype('int8')"
   ]
  },
  {
   "cell_type": "code",
   "execution_count": null,
   "id": "1aabacbc-eace-4db7-b7d1-fe372e6513b5",
   "metadata": {},
   "outputs": [],
   "source": [
    "data_1['VIP']=data_1['VIP'].astype('int8')"
   ]
  },
  {
   "cell_type": "code",
   "execution_count": null,
   "id": "11cebfdf-ef5b-4a4f-9a85-d90a3f6e86e0",
   "metadata": {},
   "outputs": [],
   "source": [
    "data_1"
   ]
  },
  {
   "cell_type": "code",
   "execution_count": null,
   "id": "4e336cd0-a187-43f1-89a8-dcb8d2e83d47",
   "metadata": {},
   "outputs": [],
   "source": [
    "data_1['Transported']=data_1['Transported'].astype('int8')"
   ]
  },
  {
   "cell_type": "code",
   "execution_count": null,
   "id": "55206e8b-6fd0-4606-a505-51d03b471dd6",
   "metadata": {},
   "outputs": [],
   "source": [
    "data_1"
   ]
  },
  {
   "cell_type": "code",
   "execution_count": null,
   "id": "c07f4c4a-ae54-41dc-a0a3-c059a568bea5",
   "metadata": {},
   "outputs": [],
   "source": [
    "data_1['Sells'].describe()"
   ]
  },
  {
   "cell_type": "code",
   "execution_count": null,
   "id": "4b57ee83-768d-44e2-8d26-484466b0a877",
   "metadata": {},
   "outputs": [],
   "source": [
    "data_1['Sells']=data_1['Sells']/data_1['Sells'].max()"
   ]
  },
  {
   "cell_type": "code",
   "execution_count": null,
   "id": "de632af7-7c65-4b68-b655-8e3dd00d8518",
   "metadata": {},
   "outputs": [],
   "source": [
    "data_1"
   ]
  },
  {
   "cell_type": "code",
   "execution_count": null,
   "id": "8fe92e47-e166-4cec-9e2d-1713cd3c4de2",
   "metadata": {},
   "outputs": [],
   "source": [
    "data_1.info(memory_usage='deep')"
   ]
  },
  {
   "cell_type": "code",
   "execution_count": null,
   "id": "baa32240-4ba1-4700-a11b-f5c095ef200c",
   "metadata": {},
   "outputs": [],
   "source": [
    "data_1['Age']=data_1['Age']/data_1['Age'].max()"
   ]
  },
  {
   "cell_type": "code",
   "execution_count": null,
   "id": "898fed7e-dab4-4f6a-85c7-385c7df926c8",
   "metadata": {},
   "outputs": [],
   "source": [
    "data_1"
   ]
  },
  {
   "cell_type": "code",
   "execution_count": null,
   "id": "cbe80112-8847-4ec5-930c-d92803253301",
   "metadata": {},
   "outputs": [],
   "source": [
    "data_1.info(memory_usage='deep')"
   ]
  },
  {
   "cell_type": "code",
   "execution_count": null,
   "id": "f3efeb23-ab9c-41bd-8a3b-41392898f802",
   "metadata": {},
   "outputs": [],
   "source": [
    "y = data_1['Transported']\n",
    "x = data_1.drop('Transported', axis=1)"
   ]
  },
  {
   "cell_type": "code",
   "execution_count": null,
   "id": "a5c11784-f5eb-417d-8f4d-20e602d79516",
   "metadata": {},
   "outputs": [],
   "source": [
    "y.value_counts()"
   ]
  },
  {
   "cell_type": "code",
   "execution_count": null,
   "id": "32523f57-f57e-448c-af9b-de113685123f",
   "metadata": {},
   "outputs": [],
   "source": [
    "x_train, x_test, y_train, y_test = train_test_split(x, y, test_size=0.25)"
   ]
  },
  {
   "cell_type": "code",
   "execution_count": null,
   "id": "fd208d6d-b85b-4d8e-82a0-8d04b38e4a89",
   "metadata": {},
   "outputs": [],
   "source": [
    "KNN_model = KNeighborsClassifier(n_neighbors=7)\n",
    "KNN_model.fit(x_train, y_train)\n",
    "\n",
    "knn_pred = KNN_model.predict(x_test)\n",
    "\n",
    "accuracy_knn = accuracy_score(y_test, knn_pred)\n",
    "accuracy_knn"
   ]
  },
  {
   "cell_type": "code",
   "execution_count": null,
   "id": "a94e2843-72a8-4891-92f0-33c37a29c9bf",
   "metadata": {},
   "outputs": [],
   "source": [
    "NB_model = GaussianNB()\n",
    "NB_model.fit(x_train, y_train)\n",
    "\n",
    "nb_pred = NB_model.predict(x_test)\n",
    "\n",
    "accuracy_nb = accuracy_score(y_test, nb_pred)\n",
    "accuracy_nb"
   ]
  },
  {
   "cell_type": "code",
   "execution_count": null,
   "id": "f96e0495-c804-48e6-b2e9-761a3da97688",
   "metadata": {},
   "outputs": [],
   "source": [
    "RF_model = RandomForestClassifier(n_estimators=100, min_samples_split=2, min_samples_leaf=1, max_depth=None)\n",
    "\n",
    "RF_model.fit(x_train, y_train)\n",
    "\n",
    "rf_pred = RF_model.predict(x_test)\n",
    "\n",
    "accuracy_rf = accuracy_score(y_test, rf_pred)\n",
    "accuracy_rf"
   ]
  },
  {
   "cell_type": "code",
   "execution_count": null,
   "id": "84d99c9f-8fd1-4269-9c97-bf0565ffba08",
   "metadata": {},
   "outputs": [],
   "source": [
    "GB_model = GradientBoostingClassifier()\n",
    "GB_model.fit(x_train, y_train)\n",
    "\n",
    "gb_pred = GB_model.predict(x_test)\n",
    "\n",
    "accuracy_gb = accuracy_score(y_test, gb_pred)\n",
    "accuracy_gb"
   ]
  },
  {
   "cell_type": "code",
   "execution_count": null,
   "id": "fe8e9ea2-e014-4fd5-8850-4f36beb063f9",
   "metadata": {},
   "outputs": [],
   "source": []
  },
  {
   "cell_type": "code",
   "execution_count": null,
   "id": "c69cc546-36d9-4ce4-b6e7-89c627efa5b8",
   "metadata": {},
   "outputs": [],
   "source": []
  },
  {
   "cell_type": "code",
   "execution_count": null,
   "id": "cc10d6d1-e03c-4cc2-8c60-9713011fc89b",
   "metadata": {},
   "outputs": [],
   "source": []
  }
 ],
 "metadata": {
  "kernelspec": {
   "display_name": "Python 3 (ipykernel)",
   "language": "python",
   "name": "python3"
  },
  "language_info": {
   "codemirror_mode": {
    "name": "ipython",
    "version": 3
   },
   "file_extension": ".py",
   "mimetype": "text/x-python",
   "name": "python",
   "nbconvert_exporter": "python",
   "pygments_lexer": "ipython3",
   "version": "3.10.4"
  }
 },
 "nbformat": 4,
 "nbformat_minor": 5
}
